{
 "cells": [
  {
   "cell_type": "markdown",
   "metadata": {},
   "source": [
    "## README \n",
    "\n",
    "Author: Tom Wang @[tomwym](https://github.com/tomwym)\n",
    "\n",
    "This document serves as documentation as a workterm recap. I will discuss the general goals of the project first, approaches, conclusions, and next steps throughout the term. This document, and all documentation written by myself is written primarily for those who take on this project in the future."
   ]
  },
  {
   "cell_type": "markdown",
   "metadata": {},
   "source": [
    "#### Project Overview\n",
    "\n",
    "The goal of this project is to create a Navigation system for total knee replacement surgeries. This stage of the project aims to integrate the Microsoft Hololens 2 within the procedure of a total knee replacement. \n",
    "\n",
    "The Hololens differs from a camera in two powerful ways: the first being the integration with Unity, and the second being the suite of sensors on the device. The first point makes it very easy to create applications for the device. Unity provides a straightforward way of building a 'game' application and deploying it onto the Hololens. The additional sensors such as LiDAR, motion, on the Hololens provide spatial localization: the Hololens is **very** good at recognizing the surrounding room and determining its current location within the room. \n",
    "\n",
    "Using the localization capacity of the Hololens we can represent multiple key pieces of information in the operating room (OR). The prime example of using a global coordinate system is to represent the center of rotation of the hip. I will discuss this topic more in a later section. Since objects in space are remembered, it is possible to represent multiple surgical geometric components as Augmented Reality objects in the Hololens application.\n",
    "\n",
    "##### Total Knee Sugery and Concepts\n",
    "\n",
    "The primary geometry constraints will be described in this section. Consider the femur (thigh bone). At the proximal end is the ball of the femur, which fits in a socket on the hip. The distal end contains two surfaces which contact the tibia (shin via meniscus), and also a grove. This grove in 3D lies on a 2D plane, and this plane indicates the motion of the tibia. Imagine drawing a line between the ball of the femur and the most distal point along the groove. In a total knee replacement a cut is made parallel to a plane defined by that normal line. Some other cuts are also made in a similar fashion based on this axis. \n",
    "\n",
    "Immediately the first goal is revealed: determine the 3D world position of of the ball of the femur, and the distal point of the femur in the groove. Solutions have been developed to tackle these two goals specifically, but the solutions contain concepts which can be used more generally. For now we will describe the goals explicitly as: *determine ball of femur*, and *determine distal end of femur*.\n",
    "\n",
    "##### Vuforia\n",
    "\n",
    "The primary technology used in this project is Vuforia. Vuforia is an addon to Unity which specializes in the recognition and tracking of specific targets. These targets can take the form of both image and 3D model targets which can be configured by the user. Since the technology is well developed and readily available, most the work this term has been focused around working with Vuforia to solve the above-mentioned problems.\n",
    "\n",
    "##### Problem 1: Ball of Femur\n",
    "\n",
    "A variety of methods can be used to determine the ball of the femur. Fundamentally though, the center of the ball of the femur represents the center of rotation. The immediate solution is to have the surgeon approximate by eye. If the surgeon has decent spatial perception skills, after moving the leg around, accompanied by physiological understanding it may not be too difficult to approximate the center of rotation. \n",
    "\n",
    "The second, and theoretically more robust solution involves using Vuforia. Consider a model target attached to femur. The system containing the model target and the bone are now considered one rigid body, any movement is transfered directly to the model target identically. The surgeon can then move the leg around in a variety of positions to construct a list of points the leg has been. The model target presents the localized information to Vuforia, which is the saved in the application. Multiple methods to use this list of measured positions are discussed in the `Center_of_Rotation.ipynb` file, and well as further discussion of the center of rotation.\n",
    "\n",
    "Ultimately through testing, we realized that the errors being introduced to the system are far greater than what was initially expected. The problem does not appear to be in the algorithm, but rather the Hololens as a singular sensor for detecting Vuforia targets. We estimate several possible explanations for the poor performance:\n",
    "- poor lighting conditions in the room during testing (overly sunny in Dr. Wong's office)\n",
    "- underdeveloped support for Vuforia by the Hololens\n",
    "- possible misunderstanding of world vs local coordinate systems: it's possible we need to interface through the Hololens position\n",
    "\n",
    "##### Problem 2: Distal end of Femur\n",
    "\n",
    "Since the project never progressed to this stage fully, the progress was limited to conceptualizations of solutions. In general, the theme of the solutions is to manually determine a point through some recognition of a pointer. The first of two concepts is using a model target tracked in Vuforia, and using geometric information about the pointer along with it's rotation matrix determined from the pose, to determine the position of the end effector. Once the end effector is known, the position can be recorded. This allows the surgeon to use the model target to point toward the location on the bone and record the point, further documentation can be found in the comments of `Resources.cs` in *Assets/Scripts*, and in the `Scripts_Motivation.ipynb` file. The second concept was to use built in Hololens hand tracking. The idea here is 'maybe we can use the finger as a pointer'. This concept was developed further by Rafae @[r4tahir](https://github.com/r4tahir)."
   ]
  },
  {
   "cell_type": "markdown",
   "metadata": {},
   "source": [
    "#### Future Recommendations\n",
    "\n",
    "One of the key takeaways this term was the approach taken during the initial phases of the project. From the beginning, Rafae and I started with nothing to work with, and little experience working with Unity. Initially we just wanted something working, so we didn't focus too much on project management, processes, etc. As a result, we only started using Git to share the project in the third month of the project. From the beginning I think we should have worked more systematically within bounded scope. A Jira board would have been nice, but would need someone who understands the project goals, the technical details and implementaions, and direction of the project well to manage it. It is possible Rafae can take over this position in the future, although it will be a lot of additional work for him.\n",
    "\n",
    "One concept I would like to mention now is the arbitary constraining of the problem we encountered. A constant theme this project enountered was the idea that we needed to make the project a certain way to be used, instead of we make a project to be used in a certain way; the subtlety is in the useage. Our idea was that the program needed to conform toward however the surgeon decided to do things, instead of giving specific instruction to the surgeon. This added a great amount more constraint on the project itself, working on solutions needed to bear in mind how the user can screw up. In a novel project like this, I think it would have been a lot more effective to tell the user the best way to use the product. An example of this: to determine the center of rotation, the idea is that the surgeon would pick a few arbitrary points whereas the large robotic competitors have more or less of a specified routine to run. We tried to make things too generic, which ended up being far less effective. \n",
    "\n",
    "The takeaways here should be to focus on project management: ideally create a work breakdown structure to manage tasks. And to focus on creating a product that can stand alone and just work, instead of thinking about how the user can screw it up. Handling these cases is important too, but less important than getting it working.  "
   ]
  },
  {
   "cell_type": "markdown",
   "metadata": {},
   "source": [
    "#### Topics for more documentation\n",
    "\n",
    "// scripts\n",
    "// unity / git / stup"
   ]
  }
 ],
 "metadata": {
  "interpreter": {
   "hash": "6c81d3fa03503789a829dee1ea31bda7e267a6ece09c5f2f8ad2439a06a80feb"
  },
  "kernelspec": {
   "display_name": "Python 3.8.5 64-bit ('oenv': venv)",
   "language": "python",
   "name": "python3"
  },
  "language_info": {
   "name": "python",
   "version": "3.8.5"
  },
  "orig_nbformat": 4
 },
 "nbformat": 4,
 "nbformat_minor": 2
}
