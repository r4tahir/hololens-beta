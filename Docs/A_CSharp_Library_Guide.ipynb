{
 "cells": [
  {
   "cell_type": "markdown",
   "metadata": {},
   "source": [
    "## Using C++\n",
    "\n",
    "Author: Tom Wang @[tomwym](https://github.com/tomwym)\n",
    "\n",
    "Hello! This document will go over the basics of building a DLL with C++ that can be used in Unity C#.\n",
    "\n",
    "Unity works within the Microsoft .NET framework and uses C# as the scripting language. This means that a shared library (DLL) built within the same framework can be used instead of compiled native C# code. Why might we want to do this? C# is easy to write and understand, but at the end of the day it is much slower than binaries built using C++. You probably know all this already, if you're reading this you maybe feel more comfortable using C++ than C#!\n",
    "\n",
    "What is a C++ library? Essentially, it is a package containing compiled code. Normally we write programs with a `main` function, but in a library we omit the `main`. Instead, we have a collection of functions which can be called."
   ]
  },
  {
   "cell_type": "markdown",
   "metadata": {},
   "source": [
    "\n",
    "#### Building on Windows\n",
    "\n",
    "Unfortunately this document will only cover the Windows variants. If you're working on this project this should be fine. Have a version of Visual Studio installed, plus the appropriate packages used to build C++. The packages that will be useful this project are:  \n",
    "- .NET desktop development\n",
    "- Desktop development with C++\n",
    "- Universal Windows Platform development\n",
    "\n",
    "Once these tools are installed, create a new VS project. Here you can select Dynamic-Link Library (DLL) and name it accordingly. Right click the name of the project and go into properties. Under *Configuration Properties* > *General*, ensure that *Configuration Type* is set to *Dynamic Library (.dll)*, and under *Configuration Properties* > *Advanced*, under *C++/CLI Properties* set *Common Language Runtime Support* to *Common Language Runtime Support (/clr)*.\n",
    "\n",
    "#### The C++ Side\n",
    "\n",
    "To let the DLL know that you are writing a function for an external platform, functions need to be wrapped in a syntax. Consider a function prototype defined in a header file, consider a function\n",
    "\n",
    "```\n",
    "void function(typename2 arg1, typename2 arg2);\n",
    "```\n",
    "\n",
    "Instead we will write it as:\n",
    "\n",
    "```\n",
    "extern \"C\" {\n",
    "    __declspec(dllexport) void function(typename1 arg1, typename2 arg2);\n",
    "}\n",
    "```\n",
    "\n",
    "To create an interface between the library and C#, a common data structure must be defined, this data structure should contain only primitive types (built in types such as int, double, char, etc). I have not experimented with more complex types. Your mileage may vary. An example of a simple struct to use is:\n",
    "\n",
    "```\n",
    "struct Point {\n",
    "    float x;\n",
    "    float y;\n",
    "    float z;\n",
    "\n",
    "    Point(float x_, float y_, float z_) : x(x_), y(y_), z(z_) {}\n",
    "};\n",
    "```\n",
    "Here I am choosing to use float values as the Unity package uses almost entirely floats as the real primitive. This is pretty straightforward.\n",
    "\n"
   ]
  },
  {
   "cell_type": "markdown",
   "metadata": {},
   "source": [
    "#### The C# Side\n",
    "\n",
    "Now we need to consider the Unity project. Essentially, we need to represent the header we would normally use with a shared library within the C# scripts, we also need to recreate the shared structs. The project must also include a *using* line near the beginning: `using System.Runtime.InteropServices;`\n",
    "\n",
    "First we will recreate the function prototypes.\n",
    "\n",
    "```\n",
    "[DllImport(\"<DLL NAME>\", CallingConvention = CallingConvention.Cdecl)]\n",
    "    public static extern void function(typename1 arg1, typename2 arg2);\n",
    "```\n",
    "To match the shared struct, it needs to be wrapped in some C# syntax.\n",
    "\n",
    "```\n",
    "[StructLayout(LayoutKind.Sequential, CharSet = CharSet.Ansi)]\n",
    "public struct PointStruct\n",
    "{\n",
    "    public float x;\n",
    "    public float y;\n",
    "    public float z;\n",
    "}\n",
    "```\n",
    "\n",
    "Of course, the DLL itself must be copied into the project directory under Assets/Plugins.\n"
   ]
  }
 ],
 "metadata": {
  "interpreter": {
   "hash": "6c81d3fa03503789a829dee1ea31bda7e267a6ece09c5f2f8ad2439a06a80feb"
  },
  "kernelspec": {
   "display_name": "Python 3.8.5 64-bit ('oenv': venv)",
   "language": "python",
   "name": "python3"
  },
  "language_info": {
   "name": "python",
   "version": "3.8.5"
  },
  "orig_nbformat": 4
 },
 "nbformat": 4,
 "nbformat_minor": 2
}
